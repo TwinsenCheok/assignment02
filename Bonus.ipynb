{
 "cells": [
  {
   "cell_type": "code",
   "execution_count": null,
   "metadata": {},
   "outputs": [],
   "source": [
    "# basic idea\n",
    "import random\n",
    "import math\n",
    "def chkprimes(num):    #check the number to be PRIMES (True is primes)\n",
    "    i = 2\n",
    "    primesnumber = True\n",
    "    while i<(int(math.sqrt(num))+1):\n",
    "        if (num%i) == 0: \n",
    "            primesnumber = False\n",
    "        break\n",
    "\n",
    "    return primesnumber\n",
    "\n",
    "\n",
    "\n",
    "PRIMES=[]\n",
    "randomlist=[]\n",
    "for i in range(10000):\n",
    "    randomlist.append(random.randint(0,100001))   \n",
    "\n",
    "\n",
    "for j in randomlist:\n",
    "    if chkprimes(j):\n",
    "        PRIMES.append(j)\n",
    "\n",
    "print (PRIMES)\n",
    "\n",
    "\n",
    "#print (randomlist)\n",
    "#    for j in PRIMES:\n",
    "#         implement your logic here\n",
    "        \n",
    "        "
   ]
  },
  {
   "cell_type": "code",
   "execution_count": null,
   "metadata": {},
   "outputs": [],
   "source": []
  }
 ],
 "metadata": {
  "kernelspec": {
   "display_name": "Python 3",
   "language": "python",
   "name": "python3"
  },
  "language_info": {
   "codemirror_mode": {
    "name": "ipython",
    "version": 3
   },
   "file_extension": ".py",
   "mimetype": "text/x-python",
   "name": "python",
   "nbconvert_exporter": "python",
   "pygments_lexer": "ipython3",
   "version": "3.7.3"
  }
 },
 "nbformat": 4,
 "nbformat_minor": 2
}
