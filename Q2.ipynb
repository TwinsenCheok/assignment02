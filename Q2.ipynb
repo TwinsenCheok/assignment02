{
 "cells": [
  {
   "cell_type": "code",
   "execution_count": 1,
   "metadata": {},
   "outputs": [
    {
     "name": "stdout",
     "output_type": "stream",
     "text": [
      "Please input the year: 2020\n",
      "The date of this year is:  366 days\n",
      "Please input the year: 2019\n",
      "The date of this year is:  365 days\n",
      "Please input the year: 2018\n",
      "The date of this year is:  365 days\n",
      "Please input the year: 202939\n",
      "stop\n",
      "None\n"
     ]
    }
   ],
   "source": [
    "from datetime import date\n",
    "\n",
    "def checkdays():\n",
    "    try:\n",
    "        year = input ('Please input the year: ')\n",
    "        while True:\n",
    "            if (year.isdigit()):\n",
    "                year1=int(year)\n",
    "                inputyear = date(year1, 1, 1)\n",
    "                nextyear = date(year1+1, 1, 1)\n",
    "                dateofyear = nextyear - inputyear\n",
    "                dateofyear=dateofyear.days\n",
    "                print ('The date of this year is: ', dateofyear, 'days')\n",
    "                year = input ('Please input the year: ')\n",
    "            else:\n",
    "                year = input ('In valid Input. Please input the year again:')\n",
    "\n",
    "        return dateofyear\n",
    "    except ValueError:\n",
    "        print(\"STOP\")\n",
    "# implement your logic\n",
    "\n",
    "print (checkdays())\n",
    "\n"
   ]
  },
  {
   "cell_type": "code",
   "execution_count": null,
   "metadata": {},
   "outputs": [],
   "source": []
  }
 ],
 "metadata": {
  "kernelspec": {
   "display_name": "Python 3",
   "language": "python",
   "name": "python3"
  },
  "language_info": {
   "codemirror_mode": {
    "name": "ipython",
    "version": 3
   },
   "file_extension": ".py",
   "mimetype": "text/x-python",
   "name": "python",
   "nbconvert_exporter": "python",
   "pygments_lexer": "ipython3",
   "version": "3.7.3"
  }
 },
 "nbformat": 4,
 "nbformat_minor": 2
}
