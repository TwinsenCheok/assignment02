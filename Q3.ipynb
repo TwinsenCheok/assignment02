{
 "cells": [
  {
   "cell_type": "code",
   "execution_count": 1,
   "metadata": {},
   "outputs": [
    {
     "name": "stdout",
     "output_type": "stream",
     "text": [
      "(95, 80, 89.16666666666667)\n",
      "{'one': ['Alice', 'Cindy', 'Frank'], 'two': ['Bob', 'Daniel', 'Elisa']}\n"
     ]
    }
   ],
   "source": [
    "import json\n",
    "\n",
    "grades = [\n",
    "    {'name': 'Alice', 'class': 'one', 'score': 85},\n",
    "    {'name': 'Bob', 'class': 'two', 'score': 95},\n",
    "    {'name': 'Cindy', 'class': 'one', 'score': 90},\n",
    "    {'name': 'Daniel', 'class': 'two', 'score': 90},\n",
    "    {'name': 'Elisa', 'class': 'two', 'score': 80},\n",
    "    {'name': 'Frank', 'class': 'one', 'score': 95}\n",
    "]\n",
    "\n",
    "def averagelist(intlist):\n",
    "    return sum(intlist)/len(intlist)\n",
    "\n",
    "def stat(grades):\n",
    "    # ...\n",
    "    temp1 = grades\n",
    "    temp2 = list(map(lambda x: x['score'], temp1))\n",
    "\n",
    "    highest = max(temp2)\n",
    "    lowest = min(temp2)\n",
    "    average = averagelist(temp2)\n",
    "\n",
    "    return highest, lowest, average\n",
    "\n",
    "\n",
    "def generate(grades):\n",
    "    classes = {'one':[], 'two':[]}\n",
    "    namelist1=[]\n",
    "    namelist2=[]\n",
    "    temp2=grades\n",
    "    for i in temp2:\n",
    "        if i['class']=='one':\n",
    "            namelist1.append(i['name'])\n",
    "    for i in temp2:\n",
    "        if i['class']=='two':\n",
    "            namelist2.append(i['name'])\n",
    "    classes.update({'one':namelist1, 'two':namelist2})\n",
    "    \n",
    "    return classes    \n",
    "    \n",
    "\n",
    "# implement your logic here\n",
    "\n",
    "print (stat(grades))\n",
    "print (generate(grades))\n",
    "\n",
    "# write file in JSON format\n",
    "with open('data.json', 'w') as outfile:\n",
    "    json.dump(stat(grades), outfile)\n",
    "    json.dump(generate(grades), outfile)\n",
    "    # implement your logic here\n",
    "    # e.g., json.dump(data, outfile)\n",
    "    \n",
    "\n"
   ]
  },
  {
   "cell_type": "code",
   "execution_count": null,
   "metadata": {},
   "outputs": [],
   "source": []
  }
 ],
 "metadata": {
  "kernelspec": {
   "display_name": "Python 3",
   "language": "python",
   "name": "python3"
  },
  "language_info": {
   "codemirror_mode": {
    "name": "ipython",
    "version": 3
   },
   "file_extension": ".py",
   "mimetype": "text/x-python",
   "name": "python",
   "nbconvert_exporter": "python",
   "pygments_lexer": "ipython3",
   "version": "3.7.3"
  }
 },
 "nbformat": 4,
 "nbformat_minor": 2
}
