{
 "cells": [
  {
   "cell_type": "code",
   "execution_count": 1,
   "metadata": {},
   "outputs": [
    {
     "name": "stdout",
     "output_type": "stream",
     "text": [
      "\n",
      "The highest total pay for the <Transit Supervisor> is   Evette Geer-Stevens\n",
      "\n",
      "The highest \"Total Pay\" Employee whose Job Title contains - fire dept:  David L Franklin\n",
      "\n",
      "The Top five Total Pay in PT. \n",
      "-  David Shinn\n",
      "-  William J Coaker Jr.\n",
      "-  Richard L Corriea\n",
      "-  Gregory Corrales\n",
      "-  Robert Velarde\n"
     ]
    }
   ],
   "source": [
    "import csv\n",
    "import itertools\n",
    "\n",
    "with open('Salaries.csv', mode='r') as csv_file:\n",
    "    csv_reader = csv.DictReader(csv_file)\n",
    "    L=[]\n",
    "    for row in csv_reader:\n",
    "        L.append([row[\"EmployeeName\"],row[\"JobTitle\"],row[\"BasePay\"],row[\"OvertimePay\"],row[\"OtherPay\"],row[\"Benefits\"],row[\"Year\"],row[\"Status\"], row[\"TotalPay\"], row[\"TotalPayBenefits\"]])\n",
    "        \n",
    "   # print(L[23]) # this will print the 23rd record of the csv file\n",
    "\n",
    "    \n",
    "    \n",
    "# implement your answer 1 here\n",
    "superpaylist=[]\n",
    "print ('')\n",
    "for i in L:\n",
    "    if ('TRANSIT SUPERVISOR' in i[1].upper()):\n",
    "        superpaylist.append([i[0],float(i[9])])\n",
    "superpaylist.sort(key=lambda x: x[1])\n",
    "superpaylist.reverse()\n",
    "print ('The highest total pay for the <Transit Supervisor> is  ', superpaylist[0][0])\n",
    "print ()\n",
    "\n",
    "\n",
    "# implement your answer 2 here\n",
    "fdpaylist=[]\n",
    "for i in L:\n",
    "    if (i[1].upper().find('fire dept'.upper())) != -1:\n",
    "        fdpaylist.append([i[0],float(i[9])])\n",
    "fdpaylist.sort(key=lambda x: x[1])\n",
    "fdpaylist.reverse()\n",
    "print ('The highest \"Total Pay\" Employee whose Job Title contains - fire dept: ', fdpaylist[0][0])\n",
    "\n",
    "print ()\n",
    "\n",
    "# implement your answer 3 here\n",
    "PTlist = []\n",
    "PTlistTop5 = []\n",
    "for i in L:\n",
    "    if ('PT' in i[7]):\n",
    "        PTlist.append([i[0], float(i[8])])\n",
    "\n",
    "#PTlist=sorted(PTlist[:][1])\n",
    "\n",
    "\n",
    "PTlist.sort(key=lambda x: x[1])\n",
    "PTlist.reverse()\n",
    "\n",
    "print ('The Top five Total Pay in PT. ')\n",
    "\n",
    "for i in range (5):\n",
    "    print ('- ', PTlist[i][0])\n",
    "\n",
    "    \n",
    "\n"
   ]
  },
  {
   "cell_type": "code",
   "execution_count": null,
   "metadata": {},
   "outputs": [],
   "source": []
  }
 ],
 "metadata": {
  "kernelspec": {
   "display_name": "Python 3",
   "language": "python",
   "name": "python3"
  },
  "language_info": {
   "codemirror_mode": {
    "name": "ipython",
    "version": 3
   },
   "file_extension": ".py",
   "mimetype": "text/x-python",
   "name": "python",
   "nbconvert_exporter": "python",
   "pygments_lexer": "ipython3",
   "version": "3.7.3"
  }
 },
 "nbformat": 4,
 "nbformat_minor": 2
}
